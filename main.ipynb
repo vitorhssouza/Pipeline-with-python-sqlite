{
 "cells": [
  {
   "cell_type": "code",
   "execution_count": 24,
   "metadata": {},
   "outputs": [],
   "source": [
    "import csv\n",
    "import sqlite3"
   ]
  },
  {
   "cell_type": "code",
   "execution_count": 32,
   "metadata": {},
   "outputs": [],
   "source": [
    "# Função para remover o ponto da última coluna\n",
    "def remove_ponto(valor):\n",
    "    return int(round(float(valor.replace('.', '')), 0))"
   ]
  },
  {
   "cell_type": "code",
   "execution_count": 40,
   "metadata": {},
   "outputs": [
    {
     "name": "stdout",
     "output_type": "stream",
     "text": [
      "Job Concluído com Sucesso!\n"
     ]
    }
   ],
   "source": [
    "# Abre o arquivo CSV com os dados da produção de alimentos\n",
    "with open('producao_alimentos.csv', 'r') as file:\n",
    "    \n",
    "    # Cria um leitor de CSV para ler o arquivo\n",
    "    reader = csv.reader(file)\n",
    "\n",
    "    # Pula a primeira linha, que contém os cabeçalhos das colunas\n",
    "    next(reader)\n",
    "\n",
    "    # Conecta ao banco de dados\n",
    "    conn = sqlite3.connect('dsadb.db')\n",
    "\n",
    "    # Deleta a tabela existente, se houver\n",
    "    conn.execute('DROP TABLE IF EXISTS producao')\n",
    "\n",
    "    # Cria uma nova tabela para armazenar os dados de produção de alimentos com a nova coluna 'margem_lucro'\n",
    "    conn.execute('''CREATE TABLE producao (\n",
    "                    produto TEXT,\n",
    "                    quantidade INTEGER,\n",
    "                    preco_medio REAL,\n",
    "                    receita_total INTEGER,\n",
    "                    margem_lucro REAL\n",
    "                )''')\n",
    "\n",
    "    # Insere cada linha do arquivo com quantidade maior que 10 na tabela do banco de dados\n",
    "    for row in reader:\n",
    "        if int(row[1]) > 10:\n",
    "            \n",
    "            # Remove o ponto do valor da última coluna e converte para inteiro\n",
    "            row[3] = remove_ponto(row[3])\n",
    "\n",
    "            # Calcula a margem de lucro bruta com base no valor médio de venda e na receita total e arredonda para duas casas decimais\n",
    "            margem_lucro = round((row[3] / float(row[1])) - float(row[2]), 2)\n",
    "\n",
    "            # Insere a linha com a nova coluna 'margem_lucro' na tabela do banco de dados\n",
    "            conn.execute('INSERT INTO producao (produto, quantidade, preco_medio, receita_total, margem_lucro) VALUES (?, ?, ?, ?, ?)', (row[0], row[1], row[2], row[3], margem_lucro))\n",
    "\n",
    "    conn.commit()\n",
    "    #conn.close()\n",
    "\n",
    "print(\"Job Concluído com Sucesso!\")"
   ]
  },
  {
   "cell_type": "code",
   "execution_count": 41,
   "metadata": {},
   "outputs": [
    {
     "data": {
      "text/plain": [
       "[('milho', 18, 21.0, 16500, 895.67),\n",
       " ('batata', 13, 14.0, 12800, 970.62),\n",
       " ('tomate', 12, 15.0, 10780, 883.33),\n",
       " ('alface', 14, 13.0, 4600, 315.57),\n",
       " ('cenoura', 21, 14.0, 4100, 181.24),\n",
       " ('abobrinha', 28, 16.0, 4800, 155.43),\n",
       " ('soja', 80, 17.0, 8400, 88.0),\n",
       " ('trigo', 150, 11.0, 9750, 54.0),\n",
       " ('abacaxi', 30, 10.0, 3000, 90.0),\n",
       " ('morango', 20, 15.0, 8000, 385.0),\n",
       " ('melancia', 12, 12.0, 7000, 571.33)]"
      ]
     },
     "execution_count": 41,
     "metadata": {},
     "output_type": "execute_result"
    }
   ],
   "source": [
    "# Leitura do banco \n",
    "\n",
    "conn.execute('SELECT * FROM producao').fetchall()\n",
    "#conn.close()"
   ]
  }
 ],
 "metadata": {
  "kernelspec": {
   "display_name": "Python 3",
   "language": "python",
   "name": "python3"
  },
  "language_info": {
   "codemirror_mode": {
    "name": "ipython",
    "version": 3
   },
   "file_extension": ".py",
   "mimetype": "text/x-python",
   "name": "python",
   "nbconvert_exporter": "python",
   "pygments_lexer": "ipython3",
   "version": "3.10.5"
  },
  "orig_nbformat": 4,
  "vscode": {
   "interpreter": {
    "hash": "76d7c06053c3456e5600312cec90888656fc0ed30c03d8425b9dac6e4fc8e014"
   }
  }
 },
 "nbformat": 4,
 "nbformat_minor": 2
}
